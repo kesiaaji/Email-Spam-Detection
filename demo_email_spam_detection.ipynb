{
 "cells": [
  {
   "cell_type": "code",
   "execution_count": 17,
   "id": "30096f68",
   "metadata": {},
   "outputs": [],
   "source": [
    "import pickle\n",
    "model1=pickle.load(open('class_spam.pkl','rb'))\n",
    "vectorizer=pickle.load(open('class_vectorizer.pkl','rb'))"
   ]
  },
  {
   "cell_type": "markdown",
   "id": "c9e3da24",
   "metadata": {},
   "source": [
    "## For predicting single message by the User"
   ]
  },
  {
   "cell_type": "code",
   "execution_count": 18,
   "id": "ac6a3be5",
   "metadata": {},
   "outputs": [
    {
     "name": "stdout",
     "output_type": "stream",
     "text": [
      "tl me what is your account number i will give u mney\n",
      "[0]\n",
      "ham mail\n"
     ]
    }
   ],
   "source": [
    "input_mail=input()\n",
    "input_data_features =vectorizer.transform([input_mail]).toarray()\n",
    "prediction = model1.predict(input_data_features)\n",
    "print(prediction)\n",
    "if (prediction[0]==1):\n",
    "    print('spam mail')\n",
    "\n",
    "else:\n",
    "    print('ham mail')"
   ]
  },
  {
   "cell_type": "markdown",
   "id": "8e0aacc5",
   "metadata": {},
   "source": [
    "## For prediction of set of messages stored in .txt format"
   ]
  },
  {
   "cell_type": "code",
   "execution_count": 35,
   "id": "056ce8c3",
   "metadata": {},
   "outputs": [
    {
     "name": "stdout",
     "output_type": "stream",
     "text": [
      "['1  XXXMobileMovieClub: To use your credit, click the WAP link in the next txt message or click here>> http://wap. xxxmobilemovieclub.com?n=QJKGIGHJJGCBL\\n', \"2 FreeMsg Hey there darling it's been 3 week's now and no word back! I'd like some fun you up vfor it still? Tb ok! XxX std chgs to send, Ã‚Â£1.50 to rcv\\n\", '3 Had your mobile 11 months or more? U R entitled to Update to the latest colour mobiles with camera for Free! Call The Mobile Update Co FREE on 08002986030\\n', \"4 FreeMsg Why haven't you replied to my text? I'm Randy, sexy, female and live local. Luv to hear from u. Netcollex Ltd 08700621170150p per msg reply Stop to end\\n\", '5 Customer service annoncement. You have a New Years delivery waiting for you. Please call 07046744435 now to arrange delivery\\n', '6 Text & meet someone sexy today. U can find a date or even flirt its up to U. Join 4 just 10p. REPLY with NAME & AGE eg Sam 25. 18 -msg recd@thirtyeight pence\\n', '7  Congratulations ur awarded 500 of CD vouchers or 125gift guaranteed & Free entry 2 100 wkly draw txt MUSIC to 87066 TnCs www.Ldew.com1win150ppmx3age16\\n', '8 December only! Had your mobile 11mths+? You are entitled to update to the latest colour camera mobile for Free! Call The Mobile Update Co FREE on 08002986906\\n', '9 Fancy a shag? I do.Interested? sextextuk.com txt XXUK SUZY to 69876. Txts cost 1.50 per msg. TnCs on website. X\\n', '10 4mths half price Orange line rental & latest camera phones 4 FREE. Had your phone 11mths ? Call MobilesDirect free on 08000938767 to update now! or2stoptxt\\n', '\\n', '\\n', '\\n', '\\n', ' \\n']\n"
     ]
    }
   ],
   "source": [
    "with open(\"spam.txt\", \"r\") as file:\n",
    "    data = file.readlines()\n",
    "    print(data)"
   ]
  },
  {
   "cell_type": "code",
   "execution_count": 36,
   "id": "4d96b813",
   "metadata": {},
   "outputs": [
    {
     "name": "stdout",
     "output_type": "stream",
     "text": [
      "[1 1 1 1 1 1 1 1 1 1 0 0 0 0 0]\n",
      "spam mail\n"
     ]
    }
   ],
   "source": [
    "input_data_features =vectorizer.transform(data).toarray()\n",
    "prediction = model1.predict(input_data_features)\n",
    "print(prediction)\n",
    "if (prediction[0]==1):\n",
    "    print('spam mail')\n",
    "\n",
    "else:\n",
    "    print('ham mail')"
   ]
  }
 ],
 "metadata": {
  "kernelspec": {
   "display_name": "Python 3 (ipykernel)",
   "language": "python",
   "name": "python3"
  },
  "language_info": {
   "codemirror_mode": {
    "name": "ipython",
    "version": 3
   },
   "file_extension": ".py",
   "mimetype": "text/x-python",
   "name": "python",
   "nbconvert_exporter": "python",
   "pygments_lexer": "ipython3",
   "version": "3.9.7"
  }
 },
 "nbformat": 4,
 "nbformat_minor": 5
}
